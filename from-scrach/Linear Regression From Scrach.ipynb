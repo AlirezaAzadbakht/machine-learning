{
 "cells": [
  {
   "cell_type": "code",
   "execution_count": 1,
   "metadata": {},
   "outputs": [],
   "source": [
    "import numpy as np\n",
    "from matplotlib import pyplot as plt\n",
    "import pandas as pd\n",
    "import math"
   ]
  },
  {
   "cell_type": "markdown",
   "metadata": {},
   "source": [
    "## DATA PREPARATION"
   ]
  },
  {
   "cell_type": "code",
   "execution_count": 2,
   "metadata": {},
   "outputs": [
    {
     "data": {
      "text/html": [
       "<div>\n",
       "<style scoped>\n",
       "    .dataframe tbody tr th:only-of-type {\n",
       "        vertical-align: middle;\n",
       "    }\n",
       "\n",
       "    .dataframe tbody tr th {\n",
       "        vertical-align: top;\n",
       "    }\n",
       "\n",
       "    .dataframe thead th {\n",
       "        text-align: right;\n",
       "    }\n",
       "</style>\n",
       "<table border=\"1\" class=\"dataframe\">\n",
       "  <thead>\n",
       "    <tr style=\"text-align: right;\">\n",
       "      <th></th>\n",
       "      <th>AT</th>\n",
       "      <th>V</th>\n",
       "      <th>AP</th>\n",
       "      <th>RH</th>\n",
       "      <th>PE</th>\n",
       "    </tr>\n",
       "  </thead>\n",
       "  <tbody>\n",
       "    <tr>\n",
       "      <td>0</td>\n",
       "      <td>14.96</td>\n",
       "      <td>41.76</td>\n",
       "      <td>1024.07</td>\n",
       "      <td>73.17</td>\n",
       "      <td>463.26</td>\n",
       "    </tr>\n",
       "    <tr>\n",
       "      <td>1</td>\n",
       "      <td>25.18</td>\n",
       "      <td>62.96</td>\n",
       "      <td>1020.04</td>\n",
       "      <td>59.08</td>\n",
       "      <td>444.37</td>\n",
       "    </tr>\n",
       "    <tr>\n",
       "      <td>2</td>\n",
       "      <td>5.11</td>\n",
       "      <td>39.40</td>\n",
       "      <td>1012.16</td>\n",
       "      <td>92.14</td>\n",
       "      <td>488.56</td>\n",
       "    </tr>\n",
       "    <tr>\n",
       "      <td>3</td>\n",
       "      <td>20.86</td>\n",
       "      <td>57.32</td>\n",
       "      <td>1010.24</td>\n",
       "      <td>76.64</td>\n",
       "      <td>446.48</td>\n",
       "    </tr>\n",
       "    <tr>\n",
       "      <td>4</td>\n",
       "      <td>10.82</td>\n",
       "      <td>37.50</td>\n",
       "      <td>1009.23</td>\n",
       "      <td>96.62</td>\n",
       "      <td>473.90</td>\n",
       "    </tr>\n",
       "  </tbody>\n",
       "</table>\n",
       "</div>"
      ],
      "text/plain": [
       "      AT      V       AP     RH      PE\n",
       "0  14.96  41.76  1024.07  73.17  463.26\n",
       "1  25.18  62.96  1020.04  59.08  444.37\n",
       "2   5.11  39.40  1012.16  92.14  488.56\n",
       "3  20.86  57.32  1010.24  76.64  446.48\n",
       "4  10.82  37.50  1009.23  96.62  473.90"
      ]
     },
     "metadata": {},
     "output_type": "display_data"
    }
   ],
   "source": [
    "data = pd.read_excel('datasets/dataset CCPP.xlsx')\n",
    "selected = ['AT','V','AP', 'RH']\n",
    "X = data[selected].values\n",
    "y = data['PE'].values\n",
    "display(data.head(5))\n",
    "X=(X - X.mean()) / X.std()\n",
    "m = int(data.shape[0]*3/4)\n",
    "f = data.shape[1]-1\n",
    "X_train = X[:m,:f]\n",
    "X_train = np.c_[np.ones(len(X_train)),X_train]\n",
    "y_train = y[:m]\n",
    "X_test = X[m:,:f]\n",
    "X_test = np.c_[np.ones(len(X_test)),X_test]\n",
    "y_test = y[m:]"
   ]
  },
  {
   "cell_type": "markdown",
   "metadata": {},
   "source": [
    "## Linear Regression"
   ]
  },
  {
   "cell_type": "code",
   "execution_count": 3,
   "metadata": {},
   "outputs": [],
   "source": [
    "def pred(x_test, newB):\n",
    "    return x_test.dot(newB)"
   ]
  },
  {
   "cell_type": "code",
   "execution_count": 4,
   "metadata": {},
   "outputs": [],
   "source": [
    "def batch_gradient_descent(X, Y, B, alpha, iterations):\n",
    "    cost_history = [0] * iterations\n",
    "    m = len(Y)\n",
    "    for iteration in range(iterations):\n",
    "        h = pred(X,B)\n",
    "        loss = h - Y\n",
    "        gradient = X.T.dot(loss) / m\n",
    "        B = B - alpha * gradient\n",
    "        cost = np.sum((X.dot(B) - Y) ** 2)/(2 * m)\n",
    "        cost_history[iteration] = cost\n",
    "    return B, cost_history"
   ]
  },
  {
   "cell_type": "code",
   "execution_count": 5,
   "metadata": {},
   "outputs": [],
   "source": [
    "B = np.zeros(X_train.shape[1])\n",
    "alpha = 0.005\n",
    "iteration_number = 500\n",
    "newB, cost_history = batch_gradient_descent(X_train, y_train, B, alpha, iteration_number)"
   ]
  },
  {
   "cell_type": "code",
   "execution_count": 6,
   "metadata": {},
   "outputs": [
    {
     "data": {
      "image/png": "[encoded data removed]",
      "text/plain": [
       "<Figure size 432x288 with 1 Axes>"
      ]
     },
     "metadata": {
      "needs_background": "light"
     },
     "output_type": "display_data"
    }
   ],
   "source": [
    "plt.plot(cost_history)\n",
    "plt.show()"
   ]
  },
  {
   "cell_type": "code",
   "execution_count": 7,
   "metadata": {},
   "outputs": [],
   "source": [
    "pred_y = pred(X_test,newB)\n",
    "pred_y_Train = pred(X_train,newB)"
   ]
  },
  {
   "cell_type": "code",
   "execution_count": 8,
   "metadata": {},
   "outputs": [
    {
     "name": "stdout",
     "output_type": "stream",
     "text": [
      "Coefficients : [ 90.75051694 -59.33688703 -52.13519117 157.18921514 -46.4617274 ]\n",
      "\n",
      "TRAIN Results :\n",
      "\n",
      "RSS : 1484678.8393401867\n",
      "RSE : 14.385851508777229\n",
      "TSS : 2091902.1056646656\n",
      "R Squared : 0.29027327076165654\n",
      "MSE : 206.89504450114174\n",
      "\n",
      "TEST Results :\n",
      "\n",
      "RSS : 498716.6110258607\n",
      "RSE : 14.445346589339218\n",
      "TSS : 694337.3462431032\n",
      "R Squared : 0.28173730863779756\n",
      "MSE : 208.4935664823833\n"
     ]
    }
   ],
   "source": [
    "print(\"Coefficients :\",newB)\n",
    "\n",
    "print(\"\\nTRAIN Results :\\n\")\n",
    "print(\"RSS :\",sum((pred_y_Train-y_train)**2))\n",
    "print(\"RSE :\",math.sqrt(sum((pred_y_Train-y_train)**2)*(1/(len(pred_y_Train)-2))))\n",
    "print(\"TSS :\",sum((y_train-y_train.mean())**2))\n",
    "print(\"R Squared :\",1-(sum((pred_y_Train-y_train)**2)/sum((y_train-y_train.mean())**2)))\n",
    "print(\"MSE :\",((pred_y_Train-y_train)**2).mean())\n",
    "\n",
    "print(\"\\nTEST Results :\\n\")\n",
    "print(\"RSS :\",sum((pred_y-y_test)**2))\n",
    "print(\"RSE :\",math.sqrt(sum((pred_y-y_test)**2)*(1/(len(pred_y)-2))))\n",
    "print(\"TSS :\",sum((y_test-y_test.mean())**2))\n",
    "print(\"R Squared :\",1-(sum((pred_y-y_test)**2)/sum((y_test-y_test.mean())**2)))\n",
    "print(\"MSE :\",((pred_y-y_test)**2).mean())\n"
   ]
  }
 ],
 "metadata": {
  "kernelspec": {
   "display_name": "Python 3",
   "language": "python",
   "name": "python3"
  },
  "language_info": {
   "codemirror_mode": {
    "name": "ipython",
    "version": 3
   },
   "file_extension": ".py",
   "mimetype": "text/x-python",
   "name": "python",
   "nbconvert_exporter": "python",
   "pygments_lexer": "ipython3",
   "version": "3.7.4"
  }
 },
 "nbformat": 4,
 "nbformat_minor": 4
}
